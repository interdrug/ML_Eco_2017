{
 "cells": [
  {
   "cell_type": "code",
   "execution_count": 40,
   "metadata": {
    "collapsed": true
   },
   "outputs": [],
   "source": [
    "import numpy as np\n",
    "import pandas as pd\n",
    "import matplotlib.pyplot as plt\n",
    "import math\n",
    "from sklearn.metrics import roc_auc_score\n",
    "import seaborn as sns\n",
    "import scipy as sp\n",
    "\n",
    "%matplotlib inline"
   ]
  },
  {
   "cell_type": "code",
   "execution_count": 41,
   "metadata": {
    "collapsed": true
   },
   "outputs": [],
   "source": [
    "df_train = pd.read_csv('main_train.csv')\n",
    "df_test = pd.read_csv('main_test.csv')"
   ]
  },
  {
   "cell_type": "code",
   "execution_count": 42,
   "metadata": {
    "collapsed": false
   },
   "outputs": [
    {
     "data": {
      "text/html": [
       "<div>\n",
       "<table border=\"1\" class=\"dataframe\">\n",
       "  <thead>\n",
       "    <tr style=\"text-align: right;\">\n",
       "      <th></th>\n",
       "      <th>match_id</th>\n",
       "      <th>radiant</th>\n",
       "      <th>hero</th>\n",
       "      <th>gold_0</th>\n",
       "      <th>lh_0</th>\n",
       "      <th>xp_0</th>\n",
       "      <th>gold_60</th>\n",
       "      <th>lh_60</th>\n",
       "      <th>xp_60</th>\n",
       "      <th>gold_120</th>\n",
       "      <th>...</th>\n",
       "      <th>xp_600</th>\n",
       "      <th>level_180</th>\n",
       "      <th>level_240</th>\n",
       "      <th>level_300</th>\n",
       "      <th>level_360</th>\n",
       "      <th>level_420</th>\n",
       "      <th>level_480</th>\n",
       "      <th>level_540</th>\n",
       "      <th>level_600</th>\n",
       "      <th>radiant_win</th>\n",
       "    </tr>\n",
       "  </thead>\n",
       "  <tbody>\n",
       "    <tr>\n",
       "      <th>0</th>\n",
       "      <td>0</td>\n",
       "      <td>1</td>\n",
       "      <td>Rubick</td>\n",
       "      <td>0.0</td>\n",
       "      <td>0.0</td>\n",
       "      <td>0.0</td>\n",
       "      <td>100.0</td>\n",
       "      <td>0.0</td>\n",
       "      <td>46.0</td>\n",
       "      <td>250.0</td>\n",
       "      <td>...</td>\n",
       "      <td>1741.0</td>\n",
       "      <td>0.0</td>\n",
       "      <td>0.0</td>\n",
       "      <td>0.0</td>\n",
       "      <td>0.0</td>\n",
       "      <td>0.0</td>\n",
       "      <td>0.0</td>\n",
       "      <td>0.0</td>\n",
       "      <td>0.0</td>\n",
       "      <td>1</td>\n",
       "    </tr>\n",
       "    <tr>\n",
       "      <th>1</th>\n",
       "      <td>0</td>\n",
       "      <td>1</td>\n",
       "      <td>Wraith King</td>\n",
       "      <td>0.0</td>\n",
       "      <td>0.0</td>\n",
       "      <td>0.0</td>\n",
       "      <td>175.0</td>\n",
       "      <td>2.0</td>\n",
       "      <td>124.0</td>\n",
       "      <td>526.0</td>\n",
       "      <td>...</td>\n",
       "      <td>2319.0</td>\n",
       "      <td>0.0</td>\n",
       "      <td>0.0</td>\n",
       "      <td>0.0</td>\n",
       "      <td>0.0</td>\n",
       "      <td>0.0</td>\n",
       "      <td>0.0</td>\n",
       "      <td>1.0</td>\n",
       "      <td>1.0</td>\n",
       "      <td>1</td>\n",
       "    </tr>\n",
       "    <tr>\n",
       "      <th>2</th>\n",
       "      <td>0</td>\n",
       "      <td>1</td>\n",
       "      <td>Riki</td>\n",
       "      <td>0.0</td>\n",
       "      <td>0.0</td>\n",
       "      <td>0.0</td>\n",
       "      <td>137.0</td>\n",
       "      <td>1.0</td>\n",
       "      <td>93.0</td>\n",
       "      <td>439.0</td>\n",
       "      <td>...</td>\n",
       "      <td>3859.0</td>\n",
       "      <td>0.0</td>\n",
       "      <td>0.0</td>\n",
       "      <td>0.0</td>\n",
       "      <td>0.0</td>\n",
       "      <td>0.0</td>\n",
       "      <td>1.0</td>\n",
       "      <td>1.0</td>\n",
       "      <td>1.0</td>\n",
       "      <td>1</td>\n",
       "    </tr>\n",
       "    <tr>\n",
       "      <th>3</th>\n",
       "      <td>0</td>\n",
       "      <td>1</td>\n",
       "      <td>Tusk</td>\n",
       "      <td>0.0</td>\n",
       "      <td>0.0</td>\n",
       "      <td>0.0</td>\n",
       "      <td>100.0</td>\n",
       "      <td>0.0</td>\n",
       "      <td>62.0</td>\n",
       "      <td>200.0</td>\n",
       "      <td>...</td>\n",
       "      <td>1676.0</td>\n",
       "      <td>0.0</td>\n",
       "      <td>0.0</td>\n",
       "      <td>0.0</td>\n",
       "      <td>0.0</td>\n",
       "      <td>0.0</td>\n",
       "      <td>0.0</td>\n",
       "      <td>0.0</td>\n",
       "      <td>1.0</td>\n",
       "      <td>1</td>\n",
       "    </tr>\n",
       "    <tr>\n",
       "      <th>4</th>\n",
       "      <td>0</td>\n",
       "      <td>1</td>\n",
       "      <td>Templar Assassin</td>\n",
       "      <td>0.0</td>\n",
       "      <td>0.0</td>\n",
       "      <td>0.0</td>\n",
       "      <td>320.0</td>\n",
       "      <td>3.0</td>\n",
       "      <td>352.0</td>\n",
       "      <td>668.0</td>\n",
       "      <td>...</td>\n",
       "      <td>4453.0</td>\n",
       "      <td>0.0</td>\n",
       "      <td>0.0</td>\n",
       "      <td>0.0</td>\n",
       "      <td>0.0</td>\n",
       "      <td>0.0</td>\n",
       "      <td>0.0</td>\n",
       "      <td>1.0</td>\n",
       "      <td>2.0</td>\n",
       "      <td>1</td>\n",
       "    </tr>\n",
       "  </tbody>\n",
       "</table>\n",
       "<p>5 rows × 45 columns</p>\n",
       "</div>"
      ],
      "text/plain": [
       "   match_id  radiant              hero  gold_0  lh_0  xp_0  gold_60  lh_60  \\\n",
       "0         0        1            Rubick     0.0   0.0   0.0    100.0    0.0   \n",
       "1         0        1       Wraith King     0.0   0.0   0.0    175.0    2.0   \n",
       "2         0        1              Riki     0.0   0.0   0.0    137.0    1.0   \n",
       "3         0        1              Tusk     0.0   0.0   0.0    100.0    0.0   \n",
       "4         0        1  Templar Assassin     0.0   0.0   0.0    320.0    3.0   \n",
       "\n",
       "   xp_60  gold_120     ...       xp_600  level_180  level_240  level_300  \\\n",
       "0   46.0     250.0     ...       1741.0        0.0        0.0        0.0   \n",
       "1  124.0     526.0     ...       2319.0        0.0        0.0        0.0   \n",
       "2   93.0     439.0     ...       3859.0        0.0        0.0        0.0   \n",
       "3   62.0     200.0     ...       1676.0        0.0        0.0        0.0   \n",
       "4  352.0     668.0     ...       4453.0        0.0        0.0        0.0   \n",
       "\n",
       "   level_360  level_420  level_480  level_540  level_600  radiant_win  \n",
       "0        0.0        0.0        0.0        0.0        0.0            1  \n",
       "1        0.0        0.0        0.0        1.0        1.0            1  \n",
       "2        0.0        0.0        1.0        1.0        1.0            1  \n",
       "3        0.0        0.0        0.0        0.0        1.0            1  \n",
       "4        0.0        0.0        0.0        1.0        2.0            1  \n",
       "\n",
       "[5 rows x 45 columns]"
      ]
     },
     "execution_count": 42,
     "metadata": {},
     "output_type": "execute_result"
    }
   ],
   "source": [
    "df_train.head()"
   ]
  },
  {
   "cell_type": "markdown",
   "metadata": {},
   "source": [
    "Для начала посмотрим, существуют ли в предполагаемо важных признаках пропуски"
   ]
  },
  {
   "cell_type": "code",
   "execution_count": 43,
   "metadata": {
    "collapsed": false
   },
   "outputs": [
    {
     "data": {
      "text/plain": [
       "match_id        0\n",
       "radiant         0\n",
       "hero           29\n",
       "gold_0          0\n",
       "lh_0            0\n",
       "xp_0            0\n",
       "gold_60         0\n",
       "lh_60           0\n",
       "xp_60           0\n",
       "gold_120        0\n",
       "lh_120          0\n",
       "xp_120          0\n",
       "gold_180        0\n",
       "lh_180          0\n",
       "xp_180          0\n",
       "gold_240        0\n",
       "lh_240          0\n",
       "xp_240          0\n",
       "gold_300        0\n",
       "lh_300          0\n",
       "xp_300          0\n",
       "gold_360        0\n",
       "lh_360          0\n",
       "xp_360          0\n",
       "gold_420        0\n",
       "lh_420          0\n",
       "xp_420          0\n",
       "gold_480        0\n",
       "lh_480          0\n",
       "xp_480          0\n",
       "gold_540        0\n",
       "lh_540          0\n",
       "xp_540          0\n",
       "gold_600        0\n",
       "lh_600          0\n",
       "xp_600          0\n",
       "level_180      50\n",
       "level_240      50\n",
       "level_300      50\n",
       "level_360      50\n",
       "level_420      50\n",
       "level_480      50\n",
       "level_540      50\n",
       "level_600      50\n",
       "radiant_win     0\n",
       "dtype: int64"
      ]
     },
     "execution_count": 43,
     "metadata": {},
     "output_type": "execute_result"
    }
   ],
   "source": [
    "pd.isnull(df_train).sum()"
   ]
  },
  {
   "cell_type": "markdown",
   "metadata": {},
   "source": [
    "Как видим, существует 29 пропущенных значений в признаке 'hero'. Заменим NaN на 'Zero'"
   ]
  },
  {
   "cell_type": "markdown",
   "metadata": {},
   "source": [
    "#### Первичная предобработка"
   ]
  },
  {
   "cell_type": "code",
   "execution_count": 44,
   "metadata": {
    "collapsed": true
   },
   "outputs": [],
   "source": [
    "df_train['hero'] = df_train['hero'].fillna('Zero')\n",
    "df_test['hero'] = df_test['hero'].fillna('Zero')"
   ]
  },
  {
   "cell_type": "markdown",
   "metadata": {},
   "source": [
    "Далее ввиду особенностей формирования объектов в датафрейме (идут игроки Radiant для 1-го матча, затем 5 игроков ) мы создадим командные векторы признаков"
   ]
  },
  {
   "cell_type": "code",
   "execution_count": 45,
   "metadata": {
    "collapsed": true
   },
   "outputs": [],
   "source": [
    "def convert_to_team(player_values):\n",
    "    team_values = player_values.values.reshape(-1,5)\n",
    "    team_values.sort(axis=1)\n",
    "    return team_values"
   ]
  },
  {
   "cell_type": "code",
   "execution_count": 46,
   "metadata": {
    "collapsed": true
   },
   "outputs": [],
   "source": [
    "team_gold_600_train = convert_to_team(df_train['gold_600'])\n",
    "team_lh_600_train = convert_to_team(df_train['lh_600'])\n",
    "team_xp_600_train = convert_to_team(df_train['xp_600'])\n",
    "\n",
    "team_gold_600_test = convert_to_team(df_test['gold_600'])\n",
    "team_lh_600_test = convert_to_team(df_test['lh_600'])\n",
    "team_xp_600_test = convert_to_team(df_test['xp_600'])"
   ]
  },
  {
   "cell_type": "code",
   "execution_count": 47,
   "metadata": {
    "collapsed": false
   },
   "outputs": [
    {
     "data": {
      "text/plain": [
       "array([ 1332.,  1386.,  2503.,  2804.,  3581.])"
      ]
     },
     "execution_count": 47,
     "metadata": {},
     "output_type": "execute_result"
    }
   ],
   "source": [
    "team_gold_600_train[1]"
   ]
  },
  {
   "cell_type": "markdown",
   "metadata": {},
   "source": [
    "Теперь сконкатенируем все полученные векторы в train и test выборки"
   ]
  },
  {
   "cell_type": "code",
   "execution_count": 48,
   "metadata": {
    "collapsed": false
   },
   "outputs": [],
   "source": [
    "X_train = np.array(np.vstack([team_gold_600_train.T, team_lh_600_train.T, team_xp_600_train.T])).T\n",
    "X_test = np.array(np.vstack([team_gold_600_test.T, team_lh_600_test.T, team_xp_600_test.T])).T"
   ]
  },
  {
   "cell_type": "markdown",
   "metadata": {},
   "source": [
    "#### Стандартизация"
   ]
  },
  {
   "cell_type": "code",
   "execution_count": 49,
   "metadata": {
    "collapsed": false
   },
   "outputs": [],
   "source": [
    "from sklearn.preprocessing import StandardScaler\n",
    "\n",
    "scaler = StandardScaler().fit(X_train)\n",
    "X_train = scaler.transform(X_train)\n",
    "X_test = scaler.transform(X_test)"
   ]
  },
  {
   "cell_type": "code",
   "execution_count": 50,
   "metadata": {
    "collapsed": false
   },
   "outputs": [
    {
     "data": {
      "text/plain": [
       "(79918, 15)"
      ]
     },
     "execution_count": 50,
     "metadata": {},
     "output_type": "execute_result"
    }
   ],
   "source": [
    "X_train.shape"
   ]
  },
  {
   "cell_type": "markdown",
   "metadata": {},
   "source": [
    "Теперь X_train есть датафрейм, в котором 15 признаков и объекты построены для обеих команд в общем. Сделаем датафрейм для анализа обеих команд сепаратно"
   ]
  },
  {
   "cell_type": "code",
   "execution_count": 51,
   "metadata": {
    "collapsed": true
   },
   "outputs": [],
   "source": [
    "X_train = X_train.reshape(-1, 30)\n",
    "X_test = X_test.reshape(-1, 30)"
   ]
  },
  {
   "cell_type": "markdown",
   "metadata": {},
   "source": [
    "Добавим вектор, определяющий персонажей, которые были выбраны для игры в каждой команде. Сделаем дамми-переменные, поскольку данный признак является категориальным"
   ]
  },
  {
   "cell_type": "code",
   "execution_count": 52,
   "metadata": {
    "collapsed": true
   },
   "outputs": [],
   "source": [
    "heroes_train = np.matrix(pd.get_dummies(df_train['hero']), dtype='int')\n",
    "heroes_test = np.matrix(pd.get_dummies(df_test['hero']), dtype='int')"
   ]
  },
  {
   "cell_type": "code",
   "execution_count": 53,
   "metadata": {
    "collapsed": false
   },
   "outputs": [
    {
     "data": {
      "text/plain": [
       "(399590, 111)"
      ]
     },
     "execution_count": 53,
     "metadata": {},
     "output_type": "execute_result"
    }
   ],
   "source": [
    "heroes_train.shape"
   ]
  },
  {
   "cell_type": "markdown",
   "metadata": {},
   "source": [
    "Чтобы обеспечить корректное соответствие героев в каждой команде в каждом матче, проведем следующие манипуляции"
   ]
  },
  {
   "cell_type": "code",
   "execution_count": 54,
   "metadata": {
    "collapsed": true
   },
   "outputs": [],
   "source": [
    "team_heroes_train = heroes_train[::5]+heroes_train[1::5]+heroes_train[2::5]+heroes_train[3::5]+heroes_train[4::5]\n",
    "team_heroes_test = heroes_test[::5]+heroes_test[1::5]+heroes_test[2::5]+heroes_test[3::5]+heroes_test[4::5]"
   ]
  },
  {
   "cell_type": "code",
   "execution_count": 55,
   "metadata": {
    "collapsed": false
   },
   "outputs": [],
   "source": [
    "hero_team_train = np.array(np.subtract(np.matrix(team_heroes_train, dtype='int')[::2], np.matrix(team_heroes_train, dtype='int')[1::2]))\n",
    "hero_team_test = np.array(np.subtract(np.matrix(team_heroes_test, dtype='int')[::2], np.matrix(team_heroes_test, dtype='int')[1::2]))"
   ]
  },
  {
   "cell_type": "markdown",
   "metadata": {},
   "source": [
    "Наконец, соединим получившиеся векторы, чтобы сформировать конечный X_train и X_test"
   ]
  },
  {
   "cell_type": "code",
   "execution_count": 56,
   "metadata": {
    "collapsed": true
   },
   "outputs": [],
   "source": [
    "X_train = np.vstack([X_train.T, hero_team_train.T]).T\n",
    "X_test = np.vstack([X_test.T, hero_team_test.T]).T"
   ]
  },
  {
   "cell_type": "markdown",
   "metadata": {},
   "source": [
    "Выделим вектор целевой переменной"
   ]
  },
  {
   "cell_type": "code",
   "execution_count": 57,
   "metadata": {
    "collapsed": true
   },
   "outputs": [],
   "source": [
    "y_train = np.array(df_train.radiant_win[::10])"
   ]
  },
  {
   "cell_type": "markdown",
   "metadata": {},
   "source": [
    "### Логистическая регрессия"
   ]
  },
  {
   "cell_type": "code",
   "execution_count": 58,
   "metadata": {
    "collapsed": true
   },
   "outputs": [],
   "source": [
    "from sklearn.linear_model import LogisticRegression\n",
    "from sklearn.model_selection import cross_val_score"
   ]
  },
  {
   "cell_type": "code",
   "execution_count": 59,
   "metadata": {
    "collapsed": true
   },
   "outputs": [],
   "source": [
    "from sklearn.model_selection import GridSearchCV"
   ]
  },
  {
   "cell_type": "markdown",
   "metadata": {},
   "source": [
    "Подберем оптимальные параметры для используемой модели"
   ]
  },
  {
   "cell_type": "code",
   "execution_count": 73,
   "metadata": {
    "collapsed": false
   },
   "outputs": [
    {
     "name": "stderr",
     "output_type": "stream",
     "text": [
      "C:\\Users\\Vlad\\Anaconda3\\lib\\site-packages\\sklearn\\model_selection\\_search.py:747: DeprecationWarning: The grid_scores_ attribute was deprecated in version 0.18 in favor of the more elaborate cv_results_ attribute. The grid_scores_ attribute will not be available from 0.20\n",
      "  DeprecationWarning)\n"
     ]
    },
    {
     "data": {
      "text/plain": [
       "([mean: 0.76089, std: 0.00720, params: {'penalty': 'l1', 'C': 0.10000000000000001},\n",
       "  mean: 0.76121, std: 0.00719, params: {'penalty': 'l2', 'C': 0.10000000000000001},\n",
       "  mean: 0.76121, std: 0.00718, params: {'penalty': 'l1', 'C': 0.59999999999999998},\n",
       "  mean: 0.76124, std: 0.00717, params: {'penalty': 'l2', 'C': 0.59999999999999998},\n",
       "  mean: 0.76122, std: 0.00719, params: {'penalty': 'l1', 'C': 1.1000000000000001},\n",
       "  mean: 0.76124, std: 0.00718, params: {'penalty': 'l2', 'C': 1.1000000000000001},\n",
       "  mean: 0.76123, std: 0.00719, params: {'penalty': 'l1', 'C': 1.6000000000000001},\n",
       "  mean: 0.76123, std: 0.00718, params: {'penalty': 'l2', 'C': 1.6000000000000001},\n",
       "  mean: 0.76123, std: 0.00719, params: {'penalty': 'l1', 'C': 2.1000000000000001},\n",
       "  mean: 0.76123, std: 0.00719, params: {'penalty': 'l2', 'C': 2.1000000000000001},\n",
       "  mean: 0.76123, std: 0.00719, params: {'penalty': 'l1', 'C': 2.6000000000000001},\n",
       "  mean: 0.76123, std: 0.00719, params: {'penalty': 'l2', 'C': 2.6000000000000001}],\n",
       " {'C': 0.59999999999999998, 'penalty': 'l2'},\n",
       " 0.76123605250443738)"
      ]
     },
     "execution_count": 73,
     "metadata": {},
     "output_type": "execute_result"
    }
   ],
   "source": [
    "param_test1 = {\n",
    " 'penalty':['l1', 'l2'],\n",
    " 'C':np.arange(0.1,3,0.5),}\n",
    "\n",
    "gsearch1 = GridSearchCV(estimator = LogisticRegression(random_state = 40), \n",
    " param_grid = param_test1, scoring='roc_auc',iid=False, cv=10)\n",
    "\n",
    "gsearch1.fit(X_train,y_train)\n",
    "gsearch1.grid_scores_, gsearch1.best_params_, gsearch1.best_score_"
   ]
  },
  {
   "cell_type": "code",
   "execution_count": 74,
   "metadata": {
    "collapsed": false
   },
   "outputs": [],
   "source": [
    "clf = LogisticRegression(random_state = 40, C = 0.6, penalty = 'l2')\n",
    "clf.fit(X_train, y_train)\n",
    "\n",
    "predictions = clf.predict_proba(X_test)"
   ]
  },
  {
   "cell_type": "code",
   "execution_count": 75,
   "metadata": {
    "collapsed": true
   },
   "outputs": [],
   "source": [
    "indeces = np.array(df_test.match_id.values[::10], dtype=int)\n",
    "\n",
    "submission = pd.DataFrame()\n",
    "submission['index'] = indeces\n",
    "submission['proba'] = predictions[:, 1]\n",
    "\n",
    "submission.to_csv('8th step.csv', index=False)"
   ]
  }
 ],
 "metadata": {
  "kernelspec": {
   "display_name": "Python [default]",
   "language": "python",
   "name": "python3"
  },
  "language_info": {
   "codemirror_mode": {
    "name": "ipython",
    "version": 3
   },
   "file_extension": ".py",
   "mimetype": "text/x-python",
   "name": "python",
   "nbconvert_exporter": "python",
   "pygments_lexer": "ipython3",
   "version": "3.5.2"
  }
 },
 "nbformat": 4,
 "nbformat_minor": 2
}
